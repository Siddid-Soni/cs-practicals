{
 "cells": [
  {
   "cell_type": "markdown",
   "metadata": {},
   "source": [
    "Q7. WAP to copy all the words that begin with 's' from the file 'data.txt' to another file 'data1.txt'"
   ]
  },
  {
   "cell_type": "code",
   "execution_count": null,
   "metadata": {},
   "outputs": [],
   "source": [
    "with open('data.txt') as f1, open('data1.txt','w') as f2:\n",
    "    for i in f1.read().split():\n",
    "        if i[0].lower()=='s':\n",
    "            f2.write(f'{i} ')\n"
   ]
  },
  {
   "cell_type": "markdown",
   "metadata": {},
   "source": [
    "Q8. WAP to read contents of the text file 'src.txt' and move all 5 letter words to another file 'dest.txt'"
   ]
  },
  {
   "cell_type": "code",
   "execution_count": null,
   "metadata": {},
   "outputs": [],
   "source": [
    "with open('src.txt') as f1, open('dest.txt','w') as f2:\n",
    "    for i in f1.read().split():\n",
    "        if len(i)==5:\n",
    "            f2.write(f'{i} ')\n"
   ]
  },
  {
   "cell_type": "markdown",
   "metadata": {},
   "source": [
    "Q9. WAP to display all the perfect cubes from the text file 'number.txt' where each number is stored in the file seperated by spaces"
   ]
  },
  {
   "cell_type": "code",
   "execution_count": 3,
   "metadata": {},
   "outputs": [
    {
     "name": "stdout",
     "output_type": "stream",
     "text": [
      "[1, 8, 27, 216, 1000, 8000]\n"
     ]
    }
   ],
   "source": [
    "def cube(n): \n",
    "    with open(n) as f:\n",
    "        b=[int(i) for i in f.read().split() if round(int(i)**(1/3))**3==int(i)]\n",
    "        return b\n",
    "print(cube('number.txt'))"
   ]
  }
 ],
 "metadata": {
  "kernelspec": {
   "display_name": "Python 3.9.12 ('base')",
   "language": "python",
   "name": "python3"
  },
  "language_info": {
   "codemirror_mode": {
    "name": "ipython",
    "version": 3
   },
   "file_extension": ".py",
   "mimetype": "text/x-python",
   "name": "python",
   "nbconvert_exporter": "python",
   "pygments_lexer": "ipython3",
   "version": "3.9.12"
  },
  "orig_nbformat": 4,
  "vscode": {
   "interpreter": {
    "hash": "5ca35ce6e53e3a96a6771a0d80c73f5500e7e1743b20887d9b94351a4f30497c"
   }
  }
 },
 "nbformat": 4,
 "nbformat_minor": 2
}
