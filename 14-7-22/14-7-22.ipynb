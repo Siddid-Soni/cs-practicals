{
 "cells": [
  {
   "cell_type": "markdown",
   "metadata": {},
   "source": [
    "WAP to copy all the words that begin with 's' from the file 'data.txt' to another file 'data1.txt'"
   ]
  },
  {
   "cell_type": "code",
   "execution_count": 4,
   "metadata": {},
   "outputs": [
    {
     "name": "stdout",
     "output_type": "stream",
     "text": [
      "over\n"
     ]
    }
   ],
   "source": [
    "with open('data.txt') as f1, open('data1.txt','w') as f2:\n",
    "    for i in f1.read().split():\n",
    "        if i[0].lower()=='s':\n",
    "            f2.write(f'{i} ')\n"
   ]
  },
  {
   "cell_type": "markdown",
   "metadata": {},
   "source": [
    "WAP to read contents of the text file 'src.txt' and move all 5 letter words to another file 'dest.txt'"
   ]
  },
  {
   "cell_type": "code",
   "execution_count": 5,
   "metadata": {},
   "outputs": [
    {
     "name": "stdout",
     "output_type": "stream",
     "text": [
      "over\n"
     ]
    }
   ],
   "source": [
    "with open('src.txt') as f1, open('dest.txt','w') as f2:\n",
    "    for i in f1.read().split():\n",
    "        if len(i)==5:\n",
    "            f2.write(f'{i} ')\n"
   ]
  },
  {
   "cell_type": "markdown",
   "metadata": {},
   "source": [
    "WAP to display all the perfect cubes from the text file 'number.txt' where each number is stored in the file seperated by spaces"
   ]
  },
  {
   "cell_type": "code",
   "execution_count": 3,
   "metadata": {},
   "outputs": [
    {
     "name": "stdout",
     "output_type": "stream",
     "text": [
      "[1, 8, 27, 216, 1000, 8000]\n"
     ]
    }
   ],
   "source": [
    "def cube(n): \n",
    "    with open(n) as f:\n",
    "        b=[int(i) for i in f.read().split() if round(int(i)**(1/3))**3==int(i)]\n",
    "        return b\n",
    "print(cube('number.txt'))"
   ]
  }
 ],
 "metadata": {
  "kernelspec": {
   "display_name": "Python 3 (ipykernel)",
   "language": "python",
   "name": "python3"
  },
  "language_info": {
   "codemirror_mode": {
    "name": "ipython",
    "version": 3
   },
   "file_extension": ".py",
   "mimetype": "text/x-python",
   "name": "python",
   "nbconvert_exporter": "python",
   "pygments_lexer": "ipython3",
   "version": "3.10.0"
  },
  "orig_nbformat": 4,
  "vscode": {
   "interpreter": {
    "hash": "0d72b21489300652f2337cd7f80c57cc00ce6bbc92cf98d285c178d0a8ced433"
   }
  }
 },
 "nbformat": 4,
 "nbformat_minor": 2
}
