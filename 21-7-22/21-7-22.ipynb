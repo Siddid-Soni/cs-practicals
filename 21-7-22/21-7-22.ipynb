{
 "cells": [
  {
   "cell_type": "markdown",
   "metadata": {},
   "source": [
    "Q10. WAP to find the frequency of the occurance of all the carecters in a file named poem.txt"
   ]
  },
  {
   "cell_type": "code",
   "execution_count": 5,
   "metadata": {},
   "outputs": [
    {
     "name": "stdout",
     "output_type": "stream",
     "text": [
      "D : 1\n",
      "e : 1\n",
      "m : 3\n",
      "o : 3\n",
      "  : 2\n",
      "f : 1\n",
      "r : 3\n",
      "p : 1\n",
      "g : 2\n",
      "a : 1\n",
      "i : 1\n",
      "n : 1\n"
     ]
    }
   ],
   "source": [
    "with open('poem.txt') as f:\n",
    "    d={}\n",
    "    for i in f.read():\n",
    "        d[i]=d[i]+1 if i in d else 1\n",
    "for i,j in d.items():\n",
    "    print(f'{i} : {j}')"
   ]
  },
  {
   "cell_type": "markdown",
   "metadata": {},
   "source": [
    "Q11. format-[v,i]"
   ]
  },
  {
   "cell_type": "code",
   "execution_count": 1,
   "metadata": {},
   "outputs": [
    {
     "name": "stdout",
     "output_type": "stream",
     "text": [
      "[5.0, 0.16666666666666666]\n",
      "avg resistance = 2.5833333333333335\n"
     ]
    }
   ],
   "source": [
    "from pickle import load\n",
    "\n",
    "def reader(n):\n",
    "    with open(n, 'rb') as f:\n",
    "        val=[]\n",
    "        while True:\n",
    "            try:\n",
    "                val.append(load(f))\n",
    "            except EOFError:\n",
    "                break\n",
    "    return val\n",
    "\n",
    "r=[i[0]/i[1] for i in reader('resist.dat')]\n",
    "print(r)\n",
    "print(f'avg resistance = {sum(r)/len(r)}')"
   ]
  },
  {
   "cell_type": "markdown",
   "metadata": {},
   "source": [
    "Q12. find molarity, molality, mole_fraction"
   ]
  },
  {
   "cell_type": "code",
   "execution_count": 7,
   "metadata": {},
   "outputs": [
    {
     "name": "stdout",
     "output_type": "stream",
     "text": [
      "Molarity: 15.0\n",
      "Molality: 30.0\n",
      "Mole fraction of solute: 0.3\n"
     ]
    }
   ],
   "source": [
    "from pickle import load\n",
    "\n",
    "with open('moles.bin','rb') as f: d=load(f)\n",
    "molarity=d['moles_solute']/d['volume']\n",
    "molality=d['moles_solute']/d['mass_solvent']\n",
    "mole_frac=d['moles_solute']/(d['moles_solvent']+d['moles_solute'])\n",
    "print(f'Molarity: {molarity}')\n",
    "print(f'Molality: {molality}')\n",
    "print(f'Mole fraction of solute: {mole_frac}')"
   ]
  }
 ],
 "metadata": {
  "kernelspec": {
   "display_name": "Python 3.10.4 64-bit",
   "language": "python",
   "name": "python3"
  },
  "language_info": {
   "codemirror_mode": {
    "name": "ipython",
    "version": 3
   },
   "file_extension": ".py",
   "mimetype": "text/x-python",
   "name": "python",
   "nbconvert_exporter": "python",
   "pygments_lexer": "ipython3",
   "version": "3.10.4"
  },
  "orig_nbformat": 4,
  "vscode": {
   "interpreter": {
    "hash": "25a19fbe0a9132dfb9279d48d161753c6352f8f9478c2e74383d340069b907c3"
   }
  }
 },
 "nbformat": 4,
 "nbformat_minor": 2
}
