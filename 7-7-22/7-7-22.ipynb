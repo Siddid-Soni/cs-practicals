{
 "cells": [
  {
   "cell_type": "markdown",
   "metadata": {},
   "source": [
    "WAP to read a text file 'data.txt' and display all the words seperated by '*'"
   ]
  },
  {
   "cell_type": "code",
   "execution_count": 1,
   "metadata": {},
   "outputs": [
    {
     "name": "stdout",
     "output_type": "stream",
     "text": [
      "Some*random*text*Sour*Salt*silk"
     ]
    }
   ],
   "source": [
    "with open(\"./data.txt\") as f:\n",
    "    for i in f.read():\n",
    "        if i==\" \":\n",
    "            print('*', end='')\n",
    "        else:\n",
    "            print(i, end='')"
   ]
  },
  {
   "cell_type": "markdown",
   "metadata": {},
   "source": [
    "WAP a program to count and display the number of words that begin with 'S' from the text file 'poem.txt'"
   ]
  },
  {
   "cell_type": "code",
   "execution_count": 4,
   "metadata": {},
   "outputs": [
    {
     "name": "stdout",
     "output_type": "stream",
     "text": [
      "Some\n",
      "S\n",
      "Skanda\n",
      "3\n"
     ]
    }
   ],
   "source": [
    "with open('poem.txt') as f:\n",
    "    c=0\n",
    "    for i in f.read().split():\n",
    "        if i[0]=='S':\n",
    "            print(i)\n",
    "            c+=1\n",
    "\n",
    "    print(c)"
   ]
  },
  {
   "cell_type": "markdown",
   "metadata": {},
   "source": [
    "WAP a program to display the last words of all the lines in the file 'poem.txt'"
   ]
  },
  {
   "cell_type": "code",
   "execution_count": 5,
   "metadata": {},
   "outputs": [
    {
     "name": "stdout",
     "output_type": "stream",
     "text": [
      "lastWord\n",
      "word\n",
      "Skanda\n"
     ]
    }
   ],
   "source": [
    "with open('poem.txt') as f:\n",
    "    for i in f:\n",
    "        c=i.split()\n",
    "        print(c[-1])\n"
   ]
  }
 ],
 "metadata": {
  "kernelspec": {
   "display_name": "Python 3.10.4 64-bit",
   "language": "python",
   "name": "python3"
  },
  "language_info": {
   "codemirror_mode": {
    "name": "ipython",
    "version": 3
   },
   "file_extension": ".py",
   "mimetype": "text/x-python",
   "name": "python",
   "nbconvert_exporter": "python",
   "pygments_lexer": "ipython3",
   "version": "3.10.4"
  },
  "orig_nbformat": 4,
  "vscode": {
   "interpreter": {
    "hash": "ce9549e5bd027de899881dd2d07d3dbcef9d1368d59710b063fb63393ca244db"
   }
  }
 },
 "nbformat": 4,
 "nbformat_minor": 2
}
