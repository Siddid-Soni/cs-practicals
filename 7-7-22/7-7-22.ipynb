{
 "cells": [
  {
   "cell_type": "markdown",
   "metadata": {},
   "source": [
    "Q4. WAP to read a text file 'data.txt' and display all the words seperated by '*'"
   ]
  },
  {
   "cell_type": "code",
   "execution_count": 1,
   "metadata": {},
   "outputs": [
    {
     "name": "stdout",
     "output_type": "stream",
     "text": [
      "Some*random*text*Sour*Salt*silk"
     ]
    }
   ],
   "source": [
    "with open(\"./data.txt\") as f:\n",
    "    for i in f.read():\n",
    "        if i==\" \":\n",
    "            print('*', end='')\n",
    "        else:\n",
    "            print(i, end='')"
   ]
  },
  {
   "cell_type": "markdown",
   "metadata": {},
   "source": [
    "Q5. WAP a program to count and display the number of words that begin with 'S' from the text file 'poem.txt'"
   ]
  },
  {
   "cell_type": "code",
   "execution_count": 4,
   "metadata": {},
   "outputs": [
    {
     "name": "stdout",
     "output_type": "stream",
     "text": [
      "Some\n",
      "S\n",
      "Skanda\n",
      "3\n"
     ]
    }
   ],
   "source": [
    "with open('poem.txt') as f:\n",
    "    c=0\n",
    "    for i in f.read().split():\n",
    "        if i[0]=='S':\n",
    "            print(i)\n",
    "            c+=1\n",
    "\n",
    "    print(c)"
   ]
  },
  {
   "cell_type": "markdown",
   "metadata": {},
   "source": [
    "Q6. WAP a program to display the last words of all the lines in the file 'poem.txt'"
   ]
  },
  {
   "cell_type": "code",
   "execution_count": 5,
   "metadata": {},
   "outputs": [
    {
     "name": "stdout",
     "output_type": "stream",
     "text": [
      "lastWord\n",
      "word\n",
      "Skanda\n"
     ]
    }
   ],
   "source": [
    "with open('poem.txt') as f:\n",
    "    for i in f:\n",
    "        c=i.split()\n",
    "        print(c[-1])\n"
   ]
  }
 ],
 "metadata": {
  "kernelspec": {
   "display_name": "Python 3.9.12 ('base')",
   "language": "python",
   "name": "python3"
  },
  "language_info": {
   "codemirror_mode": {
    "name": "ipython",
    "version": 3
   },
   "file_extension": ".py",
   "mimetype": "text/x-python",
   "name": "python",
   "nbconvert_exporter": "python",
   "pygments_lexer": "ipython3",
   "version": "3.9.12"
  },
  "orig_nbformat": 4,
  "vscode": {
   "interpreter": {
    "hash": "5ca35ce6e53e3a96a6771a0d80c73f5500e7e1743b20887d9b94351a4f30497c"
   }
  }
 },
 "nbformat": 4,
 "nbformat_minor": 2
}
