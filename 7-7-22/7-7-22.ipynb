{
 "cells": [
  {
   "cell_type": "markdown",
   "metadata": {},
   "source": [
    "WAP to read a text file 'data.txt' and display all the words seperated by '*'"
   ]
  },
  {
   "cell_type": "code",
   "execution_count": null,
   "metadata": {},
   "outputs": [],
   "source": [
    "with open(\"./data.txt\") as f:\n",
    "    for i in f.read():\n",
    "        if i==\" \":\n",
    "            print('*', end='')\n",
    "        else:\n",
    "            print(i, end='')"
   ]
  },
  {
   "cell_type": "markdown",
   "metadata": {},
   "source": [
    "WAP a program to count and display the number of words that begin with 'S' from the text file 'poem.txt'"
   ]
  },
  {
   "cell_type": "code",
   "execution_count": null,
   "metadata": {},
   "outputs": [],
   "source": [
    "with open('poem.txt') as f:\n",
    "    c=0\n",
    "    for i in f.read().split():\n",
    "        if i[0]=='S':\n",
    "            print(i)\n",
    "            c+=1\n",
    "\n",
    "    print(c)"
   ]
  },
  {
   "cell_type": "markdown",
   "metadata": {},
   "source": [
    "WAP a program to display the last words of all the lines in the file 'poem.txt'"
   ]
  },
  {
   "cell_type": "code",
   "execution_count": null,
   "metadata": {},
   "outputs": [],
   "source": [
    "with open('poem.txt') as f:\n",
    "    for i in f:\n",
    "        c=i.split()\n",
    "        print(c[-1])\n"
   ]
  }
 ],
 "metadata": {
  "language_info": {
   "name": "python"
  },
  "orig_nbformat": 4
 },
 "nbformat": 4,
 "nbformat_minor": 2
}
